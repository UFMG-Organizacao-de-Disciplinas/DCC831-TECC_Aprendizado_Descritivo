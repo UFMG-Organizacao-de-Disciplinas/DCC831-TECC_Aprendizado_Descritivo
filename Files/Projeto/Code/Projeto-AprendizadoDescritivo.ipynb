{
 "cells": [
  {
   "cell_type": "markdown",
   "metadata": {
    "id": "fwbAfcEpcVym"
   },
   "source": [
    "# Descrição do projeto prático da disciplina Aprendizado Descritivo 2025/1\n",
    "\n",
    "- Renato Vimeiro\n",
    "- 2025-06-02\n",
    "\n",
    "## Objetivos\n",
    "\n",
    "O principal objetivo do projeto é explorar de forma prática os conceitos vistos na disciplina. Os alunos se reunirão em grupos e simularão o processo de análise de dados através de aprendizado descritivo. Para isso, deverão obter os dados, limpá-los/pré-processá-los, e aplicar alguma(s) técnica(s) de aprendizado descritivo vista no curso. Os grupos também deverão analisar os resultados e comunicá-los de forma escrita e oral. Dessa forma, o aluno irá experienciar os desafios relacionados a análise de dados em ambientes mais reais. A apresentação escrita e oral dos resultados servirá também como experiência para o grupo tanto do ponto de vista acadêmico, na apresentação de resultados em forma de artigo e palestras públicas, quanto do ponto de vista de formulação de relatórios que possam ser absorvidos por pessoas não diretamente relacionadas ao problema investigado.\n",
    "\n",
    "## Tarefas\n",
    "\n",
    "São tarefas do projeto:\n",
    "\n",
    "1. Obter dados para executar a análise. Os dados têm de ser representativos de problemas reais. Ou seja, dados obtidos de repositórios de benchmarks para Aprendizado de Máquina, tais como UCI ML Repository, não constituem dados viáveis para o projeto. Outras fontes como o Kaggle podem ser consultadas, porém, deve-se ter cuidado com o conjunto de dados escolhido. Conjuntos muito simples podem não permitir a aplicação das técnicas.\n",
    "2. Limpeza dos dados. Tendo obtido os dados, os alunos deverão aplicar as transformações necessárias para tratar os dados e adequá-los à análise que será aplicada. Entre as possíveis tarefas podem estar eliminação/preenchimento de dados ausentes, mudança de formato dos dados, codificação...\n",
    "3. Aplicação de aprendizado descritivo. Nessa etapa, os alunos deverão aplicar alguma(s) técnica(s) vista(s) no curso para analisar os dados e extrair padrões interessantes dos mesmos. Podem ser aplicadas tanto técnicas supervisionadas quanto não-supervisionadas. Recomenda-se que os alunos não implementem as técnicas, e tentem obter os algoritmos em algum repositório ou pacote. Existem diversos pacotes para diversos ambientes com praticamente todos os algoritmos vistos nas aulas.\n",
    "4. Análise dos resultados. Após a aplicação dos métodos, os alunos devem explorar os resultados, interpretando-os em busca de padrões interessantes. Deve-se levar em consideração aqui as métricas de qualidade dos padrões.\n",
    "5. Documentação/apresentação dos resultados. Os alunos devem narrar/documentar o processo que executaram durante a análise, bem como os resultados obtidos. Essa documentação se dará de forma escrita através de artigo científico, e de forma oral através de apresentação em sala de aula virtual. O artigo terá no máximo 12 páginas em formato da SBC. A apresentação terá no máximo 15min, e mais 5min para discussão com a turma.\n",
    "\n",
    "## O que entregar\n",
    "\n",
    "Os alunos devem criar um repositório público GitHub contendo todo o material usado nas análises (pacotes de software não devem ser incluídos no projeto, e sim referenciados para permitir a reprodução). Os dados também não precisam ser compartilhados. No entanto, caso sejam abertos, colocar o link para o local onde possam ser obtidos.\n",
    "\n",
    "No Moodle, devem ser entregues: o artigo em pdf, os slides, e o link para o repositório com o conteúdo das análises.\n",
    "\n",
    "## Organização\n",
    "\n",
    "O projeto pode ser executado em grupo de até 5 integrantes. Para diminuir a carga de trabalho de todos os envolvidos, é recomendável que o projeto seja desenvolvido em grupo. Além disso, cada grupo tem que designar atividades a todos os seus membros. Devem ser evitadas divisões de tarefas interdependentes. O ideal é que todos estejam trabalhando ao mesmo tempo.\n",
    "\n",
    "Os grupos devem eleger um representante para enviar mensagem ao professor indicando o nome completo e matrícula de todos os membros. Essa tarefa é importante para que o professor possa dimensionar o número as aulas necessárias para apresentação dos projetos. Ela deve ser realizada o mais breve possível, até o dia 15/06.\n",
    "\n",
    "## Datas\n",
    "\n",
    "A entrega do projeto será no dia 03/07. As apresentações serão nos dias 03, 08 e 10/07.\n",
    "\n",
    "---"
   ]
  },
  {
   "cell_type": "markdown",
   "metadata": {
    "id": "X0AbN9E_yxHM"
   },
   "source": [
    "# Etapa 1: Instalar e importar bibliotecas"
   ]
  },
  {
   "cell_type": "code",
   "execution_count": 1,
   "metadata": {
    "colab": {
     "base_uri": "https://localhost:8080/"
    },
    "executionInfo": {
     "elapsed": 5195,
     "status": "ok",
     "timestamp": 1751236705797,
     "user": {
      "displayName": "João Vitor Fernandes Dias",
      "userId": "17773602428702936204"
     },
     "user_tz": 180
    },
    "id": "QEWDjN3WaX3r",
    "outputId": "d9c046b5-8209-4168-a16b-392ccd6d95bc"
   },
   "outputs": [
    {
     "name": "stdout",
     "output_type": "stream",
     "text": [
      "Requirement already satisfied: pandas==2.3.0 in b:\\programas\\programming\\python\\lib\\site-packages (from -r requirements.txt (line 1)) (2.3.0)\n",
      "Requirement already satisfied: numpy==2.3.0 in b:\\programas\\programming\\python\\lib\\site-packages (from -r requirements.txt (line 2)) (2.3.0)\n",
      "Requirement already satisfied: scipy==1.15.3 in b:\\programas\\programming\\python\\lib\\site-packages (from -r requirements.txt (line 3)) (1.15.3)\n",
      "Requirement already satisfied: matplotlib==3.10.3 in b:\\programas\\programming\\python\\lib\\site-packages (from -r requirements.txt (line 4)) (3.10.3)\n",
      "Requirement already satisfied: seaborn==0.13.2 in b:\\programas\\programming\\python\\lib\\site-packages (from -r requirements.txt (line 5)) (0.13.2)\n",
      "Requirement already satisfied: scikit-learn==1.7.0 in b:\\programas\\programming\\python\\lib\\site-packages (from -r requirements.txt (line 6)) (1.7.0)\n",
      "Requirement already satisfied: pysubgroup==0.8.0 in b:\\programas\\programming\\python\\lib\\site-packages (from -r requirements.txt (line 7)) (0.8.0)\n",
      "Requirement already satisfied: kagglehub==0.3.12 in b:\\programas\\programming\\python\\lib\\site-packages (from -r requirements.txt (line 8)) (0.3.12)\n",
      "Requirement already satisfied: subgroups==0.1.10 in b:\\programas\\programming\\python\\lib\\site-packages (from -r requirements.txt (line 9)) (0.1.10)\n",
      "Requirement already satisfied: python-dateutil>=2.8.2 in b:\\programas\\programming\\python\\lib\\site-packages (from pandas==2.3.0->-r requirements.txt (line 1)) (2.9.0.post0)\n",
      "Requirement already satisfied: pytz>=2020.1 in b:\\programas\\programming\\python\\lib\\site-packages (from pandas==2.3.0->-r requirements.txt (line 1)) (2025.2)\n",
      "Requirement already satisfied: tzdata>=2022.7 in b:\\programas\\programming\\python\\lib\\site-packages (from pandas==2.3.0->-r requirements.txt (line 1)) (2025.2)\n",
      "Requirement already satisfied: contourpy>=1.0.1 in b:\\programas\\programming\\python\\lib\\site-packages (from matplotlib==3.10.3->-r requirements.txt (line 4)) (1.3.2)\n",
      "Requirement already satisfied: cycler>=0.10 in b:\\programas\\programming\\python\\lib\\site-packages (from matplotlib==3.10.3->-r requirements.txt (line 4)) (0.12.1)\n",
      "Requirement already satisfied: fonttools>=4.22.0 in b:\\programas\\programming\\python\\lib\\site-packages (from matplotlib==3.10.3->-r requirements.txt (line 4)) (4.58.4)\n",
      "Requirement already satisfied: kiwisolver>=1.3.1 in b:\\programas\\programming\\python\\lib\\site-packages (from matplotlib==3.10.3->-r requirements.txt (line 4)) (1.4.8)\n",
      "Requirement already satisfied: packaging>=20.0 in b:\\programas\\programming\\python\\lib\\site-packages (from matplotlib==3.10.3->-r requirements.txt (line 4)) (25.0)\n",
      "Requirement already satisfied: pillow>=8 in b:\\programas\\programming\\python\\lib\\site-packages (from matplotlib==3.10.3->-r requirements.txt (line 4)) (11.2.1)\n",
      "Requirement already satisfied: pyparsing>=2.3.1 in b:\\programas\\programming\\python\\lib\\site-packages (from matplotlib==3.10.3->-r requirements.txt (line 4)) (3.2.3)\n",
      "Requirement already satisfied: joblib>=1.2.0 in b:\\programas\\programming\\python\\lib\\site-packages (from scikit-learn==1.7.0->-r requirements.txt (line 6)) (1.5.1)\n",
      "Requirement already satisfied: threadpoolctl>=3.1.0 in b:\\programas\\programming\\python\\lib\\site-packages (from scikit-learn==1.7.0->-r requirements.txt (line 6)) (3.6.0)\n",
      "Requirement already satisfied: pyyaml in b:\\programas\\programming\\python\\lib\\site-packages (from kagglehub==0.3.12->-r requirements.txt (line 8)) (6.0.2)\n",
      "Requirement already satisfied: requests in b:\\programas\\programming\\python\\lib\\site-packages (from kagglehub==0.3.12->-r requirements.txt (line 8)) (2.32.4)\n",
      "Requirement already satisfied: tqdm in b:\\programas\\programming\\python\\lib\\site-packages (from kagglehub==0.3.12->-r requirements.txt (line 8)) (4.67.1)\n",
      "Requirement already satisfied: bitarray>=3.0.0 in b:\\programas\\programming\\python\\lib\\site-packages (from subgroups==0.1.10->-r requirements.txt (line 9)) (3.4.3)\n",
      "Requirement already satisfied: statsmodels>=0.14.0 in b:\\programas\\programming\\python\\lib\\site-packages (from subgroups==0.1.10->-r requirements.txt (line 9)) (0.14.4)\n",
      "Requirement already satisfied: six>=1.5 in b:\\programas\\programming\\python\\lib\\site-packages (from python-dateutil>=2.8.2->pandas==2.3.0->-r requirements.txt (line 1)) (1.17.0)\n",
      "Requirement already satisfied: patsy>=0.5.6 in b:\\programas\\programming\\python\\lib\\site-packages (from statsmodels>=0.14.0->subgroups==0.1.10->-r requirements.txt (line 9)) (1.0.1)\n",
      "Requirement already satisfied: charset_normalizer<4,>=2 in b:\\programas\\programming\\python\\lib\\site-packages (from requests->kagglehub==0.3.12->-r requirements.txt (line 8)) (3.4.2)\n",
      "Requirement already satisfied: idna<4,>=2.5 in b:\\programas\\programming\\python\\lib\\site-packages (from requests->kagglehub==0.3.12->-r requirements.txt (line 8)) (3.10)\n",
      "Requirement already satisfied: urllib3<3,>=1.21.1 in b:\\programas\\programming\\python\\lib\\site-packages (from requests->kagglehub==0.3.12->-r requirements.txt (line 8)) (2.5.0)\n",
      "Requirement already satisfied: certifi>=2017.4.17 in b:\\programas\\programming\\python\\lib\\site-packages (from requests->kagglehub==0.3.12->-r requirements.txt (line 8)) (2025.6.15)\n",
      "Requirement already satisfied: colorama in b:\\programas\\programming\\python\\lib\\site-packages (from tqdm->kagglehub==0.3.12->-r requirements.txt (line 8)) (0.4.6)\n"
     ]
    }
   ],
   "source": [
    "''' Instalação de bibliotecas '''\n",
    "\n",
    "! pip install -r requirements.txt\n"
   ]
  },
  {
   "cell_type": "code",
   "execution_count": 10,
   "metadata": {},
   "outputs": [],
   "source": [
    "''' Importando todas as bibliotecas do requirements.txt '''\n",
    "\n",
    "import pandas as pd\n",
    "import numpy as np\n",
    "import scipy\n",
    "import matplotlib.pyplot as plt\n",
    "import seaborn as sns\n",
    "import sklearn as sk\n",
    "import pysubgroup as ps\n",
    "import kagglehub as kh\n",
    "import subgroups as sg\n",
    "from sklearn.preprocessing import MinMaxScaler\n"
   ]
  },
  {
   "cell_type": "markdown",
   "metadata": {
    "id": "H33J_e9Ky4ZP"
   },
   "source": [
    "# Etapa 2: Carregamento dos dados"
   ]
  },
  {
   "cell_type": "code",
   "execution_count": 3,
   "metadata": {
    "id": "78TCUzB9rpjp"
   },
   "outputs": [
    {
     "name": "stdout",
     "output_type": "stream",
     "text": [
      "Shape inicial: (8950, 18)\n"
     ]
    }
   ],
   "source": [
    "''' Carregar os dados '''\n",
    "\n",
    "data_path = './CC GENERAL.csv'\n",
    "\n",
    "df = pd.read_csv(data_path)\n",
    "print(\"Shape inicial:\", df.shape)\n"
   ]
  },
  {
   "cell_type": "markdown",
   "metadata": {
    "id": "qlnzR8QWy8_m"
   },
   "source": [
    "## Etapa 2.1: pre-processamento"
   ]
  },
  {
   "cell_type": "markdown",
   "metadata": {
    "id": "cFVk2pk2zDUo"
   },
   "source": [
    "### Etapa 2.1.1: Remover valores ausentes"
   ]
  },
  {
   "cell_type": "code",
   "execution_count": 4,
   "metadata": {},
   "outputs": [
    {
     "name": "stdout",
     "output_type": "stream",
     "text": [
      "Shape após remoção de nulos: (8636, 18)\n"
     ]
    }
   ],
   "source": [
    "\"\"\" Remover registros com valores nulos \"\"\"\n",
    "\n",
    "df = df.dropna()\n",
    "print(\"Shape após remoção de nulos:\", df.shape)"
   ]
  },
  {
   "cell_type": "code",
   "execution_count": 5,
   "metadata": {},
   "outputs": [],
   "source": [
    "\"\"\" Normalizar colunas numéricas \"\"\"\n",
    "\n",
    "scaler = MinMaxScaler()\n",
    "numeric_cols = df.columns.drop(\"CUST_ID\")\n",
    "df[numeric_cols] = scaler.fit_transform(df[numeric_cols])"
   ]
  },
  {
   "cell_type": "markdown",
   "metadata": {
    "id": "lsRhtLE0zOTx"
   },
   "source": [
    "### Etapa 2.1.2: Remover colunas que não serão usadas diretamente"
   ]
  },
  {
   "cell_type": "markdown",
   "metadata": {
    "id": "EA_LkO7zzU9H"
   },
   "source": [
    "### Etapa 2.1.3: Codificar variáveis categóricas"
   ]
  },
  {
   "cell_type": "code",
   "execution_count": 6,
   "metadata": {},
   "outputs": [],
   "source": [
    "\"\"\" Criar coluna-alvo binária para segmentação (ex: ALTA UTILIZAÇÃO DE CRÉDITO) \"\"\"\n",
    "\n",
    "threshold = 0.75\n",
    "df[\"High_Credit_Usage\"] = (df[\"CREDIT_LIMIT\"] > threshold).astype(int)"
   ]
  },
  {
   "cell_type": "markdown",
   "metadata": {
    "id": "fnr4pjxtzbqr"
   },
   "source": [
    "### Etapa 3: Descoberta de subgrupos com pysubgroup"
   ]
  },
  {
   "cell_type": "code",
   "execution_count": 14,
   "metadata": {},
   "outputs": [],
   "source": [
    "\"\"\" Definir a tarefa \"\"\"\n",
    "\n",
    "target = ps.BinaryTarget(\"High_Credit_Usage\", True)\n",
    "# search_space = ps.create_selectors(df, ignore=[\"CUST_ID\", \"High_Credit_Usage\"])\n",
    "search_space = [\n",
    "    selector for selector in ps.create_selectors(df, ignore=[\"CUST_ID\", \"High_Credit_Usage\"])\n",
    "    if len(df[selector.attribute_name].unique()) > 2\n",
    "]\n",
    "\n",
    "# Avaliador: WRAcc (Weighted Relative Accuracy)\n",
    "task = ps.SubgroupDiscoveryTask(df, target, search_space, result_set_size=5, qf=ps.WRAccQF())"
   ]
  },
  {
   "cell_type": "code",
   "execution_count": 15,
   "metadata": {},
   "outputs": [
    {
     "name": "stderr",
     "output_type": "stream",
     "text": [
      "b:\\Programas\\Programming\\Python\\Lib\\site-packages\\pysubgroup\\binary_target.py:356: RuntimeWarning: invalid value encountered in divide\n",
      "  p_subgroup = np.divide(positives_subgroup, instances_subgroup)\n"
     ]
    }
   ],
   "source": [
    "\"\"\" Executar o algoritmo SD \"\"\"\n",
    "\n",
    "result = ps.BeamSearch().execute(task)"
   ]
  },
  {
   "cell_type": "markdown",
   "metadata": {},
   "source": [
    "## Etapa 4: Visualização e análise dos subgrupos\n"
   ]
  },
  {
   "cell_type": "code",
   "execution_count": null,
   "metadata": {},
   "outputs": [
    {
     "name": "stdout",
     "output_type": "stream",
     "text": [
      "\n",
      "Top 5 subgrupos encontrados:\n",
      "\n",
      "#1: (np.float64(0.0005352337694294766), (CREDIT_LIMIT>=0.2320534223706177), PositivesQF_parameters(size_sg=np.int64(1983), positives_count=np.int64(6)))\n",
      "   - tamanho: 0\n"
     ]
    },
    {
     "ename": "AttributeError",
     "evalue": "'tuple' object has no attribute 'coverage'",
     "output_type": "error",
     "traceback": [
      "\u001b[31m---------------------------------------------------------------------------\u001b[39m",
      "\u001b[31mAttributeError\u001b[39m                            Traceback (most recent call last)",
      "\u001b[36mCell\u001b[39m\u001b[36m \u001b[39m\u001b[32mIn[22]\u001b[39m\u001b[32m, line 8\u001b[39m\n\u001b[32m      6\u001b[39m \u001b[38;5;28mprint\u001b[39m(\u001b[33mf\u001b[39m\u001b[33m\"\u001b[39m\u001b[33m#\u001b[39m\u001b[38;5;132;01m{\u001b[39;00mi\u001b[38;5;132;01m}\u001b[39;00m\u001b[33m:\u001b[39m\u001b[33m\"\u001b[39m, sg)\n\u001b[32m      7\u001b[39m \u001b[38;5;28mprint\u001b[39m(\u001b[33mf\u001b[39m\u001b[33m\"\u001b[39m\u001b[33m   - tamanho: \u001b[39m\u001b[38;5;132;01m{\u001b[39;00msg.count(\u001b[32m4\u001b[39m)\u001b[38;5;132;01m}\u001b[39;00m\u001b[33m\"\u001b[39m)\n\u001b[32m----> \u001b[39m\u001b[32m8\u001b[39m \u001b[38;5;28mprint\u001b[39m(\u001b[33mf\u001b[39m\u001b[33m\"\u001b[39m\u001b[33m   - cobertura: \u001b[39m\u001b[38;5;132;01m{\u001b[39;00m\u001b[43msg\u001b[49m\u001b[43m.\u001b[49m\u001b[43mcoverage\u001b[49m\u001b[38;5;132;01m:\u001b[39;00m\u001b[33m.2f\u001b[39m\u001b[38;5;132;01m}\u001b[39;00m\u001b[33m\"\u001b[39m)\n\u001b[32m      9\u001b[39m \u001b[38;5;28mprint\u001b[39m(\u001b[33mf\u001b[39m\u001b[33m\"\u001b[39m\u001b[33m   - qualidade (WRAcc): \u001b[39m\u001b[38;5;132;01m{\u001b[39;00msg.quality\u001b[38;5;132;01m:\u001b[39;00m\u001b[33m.4f\u001b[39m\u001b[38;5;132;01m}\u001b[39;00m\u001b[33m\"\u001b[39m)\n\u001b[32m     10\u001b[39m \u001b[38;5;28mprint\u001b[39m()\n",
      "\u001b[31mAttributeError\u001b[39m: 'tuple' object has no attribute 'coverage'"
     ]
    }
   ],
   "source": [
    "\"\"\"  \"\"\"\n",
    "\n",
    "print(\"\\nTop 5 subgrupos encontrados:\\n\")\n",
    "\n",
    "for i, sg in enumerate(result.results, 1):\n",
    "    print(f\"#{i}:\", sg)\n",
    "    print(f\"   - tamanho: {sg.count()}\")\n",
    "    print(f\"   - cobertura: {sg.coverage:.2f}\")\n",
    "    print(f\"   - qualidade (WRAcc): {sg.quality:.4f}\")\n",
    "    print()"
   ]
  }
 ],
 "metadata": {
  "colab": {
   "authorship_tag": "ABX9TyPF4AYGUY8G1iPkSramNoGC",
   "provenance": []
  },
  "kernelspec": {
   "display_name": "Python 3",
   "name": "python3"
  },
  "language_info": {
   "codemirror_mode": {
    "name": "ipython",
    "version": 3
   },
   "file_extension": ".py",
   "mimetype": "text/x-python",
   "name": "python",
   "nbconvert_exporter": "python",
   "pygments_lexer": "ipython3",
   "version": "3.12.4"
  }
 },
 "nbformat": 4,
 "nbformat_minor": 0
}
